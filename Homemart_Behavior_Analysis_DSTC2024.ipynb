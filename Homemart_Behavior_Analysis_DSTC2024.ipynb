{
  "nbformat": 4,
  "nbformat_minor": 0,
  "metadata": {
    "colab": {
      "provenance": [],
      "mount_file_id": "1f5XNGaEKjeTAWWnOhdmcO0HRTQsG12OT",
      "authorship_tag": "ABX9TyPtd2ihUQZOjGltRnl9tL36",
      "include_colab_link": true
    },
    "kernelspec": {
      "name": "python3",
      "display_name": "Python 3"
    },
    "language_info": {
      "name": "python"
    }
  },
  "cells": [
    {
      "cell_type": "markdown",
      "metadata": {
        "id": "view-in-github",
        "colab_type": "text"
      },
      "source": [
        "<a href=\"https://colab.research.google.com/github/MinhQuanDangLe/Homemart-Behavior-Analysis-DTSC2024/blob/main/Homemart_Behavior_Analysis_DSTC2024.ipynb\" target=\"_parent\"><img src=\"https://colab.research.google.com/assets/colab-badge.svg\" alt=\"Open In Colab\"/></a>"
      ]
    },
    {
      "cell_type": "markdown",
      "source": [
        "# Import thư viện, thiết lập đường dẫn vào dataframe"
      ],
      "metadata": {
        "id": "qdg90gzSgl3e"
      }
    },
    {
      "cell_type": "code",
      "source": [
        "from google.colab import drive\n",
        "drive.mount('/content/drive')\n",
        "folder_path = \"/content/drive/MyDrive/1. PROJECTS/Học Data/DSTC 2024\"\n"
      ],
      "metadata": {
        "colab": {
          "base_uri": "https://localhost:8080/"
        },
        "id": "-CqLtA1lwwdy",
        "outputId": "540afcb6-1b62-4537-c7fc-4c9d2209fd08"
      },
      "execution_count": 3,
      "outputs": [
        {
          "output_type": "stream",
          "name": "stdout",
          "text": [
            "Drive already mounted at /content/drive; to attempt to forcibly remount, call drive.mount(\"/content/drive\", force_remount=True).\n"
          ]
        }
      ]
    },
    {
      "cell_type": "code",
      "source": [
        "!git --version  # kiểm tra phiên bản git\n",
        "!git clone https://github.com/MinhQuanDangLe/Homemart-Behavior-Analysis-DTSC2024.git\n",
        "!cp -r \"/content/drive/MyDrive/1. PROJECTS/Học Data/DSTC 2024/DSTC 2024_Dataset\" /content/Homemart-Behavior-Analysis-DTSC2024/\n",
        "%cd /content/Homemart-Behavior-Analysis-DTSC2024/\n",
        "\n",
        "!git rm --cached Homemart-Behavior-Analysis-DTSC2024\n",
        "\n",
        "# Kiểm tra trạng thái của git\n",
        "!git status\n",
        "#Thêm thông tin người dùng\n",
        "!git config --global user.email \"dangle.minhquan.333@gmail.com\"  # Thay thế bằng email của bạn\n",
        "!git config --global user.name \"MinhQuanDangLe\"  # Thay thế bằng tên của bạn\n",
        "# Thêm tệp mới vào staging area\n",
        "!git add .\n",
        "# Commit thay đổi với thông điệp\n",
        "!git commit -m \"Add DSTC 2024 folder from Google Drive\"\n",
        "# Đẩy thay đổi lên GitHub\n",
        "!git push origin main  # Nếu nhánh chính là \"main\"\n"
      ],
      "metadata": {
        "colab": {
          "base_uri": "https://localhost:8080/"
        },
        "id": "GCa4Mwrmw6Xg",
        "outputId": "414afdb8-c5c4-4665-aa97-65bbb3cd8837"
      },
      "execution_count": 7,
      "outputs": [
        {
          "output_type": "stream",
          "name": "stdout",
          "text": [
            "git version 2.34.1\n",
            "fatal: destination path 'Homemart-Behavior-Analysis-DTSC2024' already exists and is not an empty directory.\n",
            "/content/Homemart-Behavior-Analysis-DTSC2024\n",
            "rm 'Homemart-Behavior-Analysis-DTSC2024'\n",
            "On branch main\n",
            "Your branch is ahead of 'origin/main' by 1 commit.\n",
            "  (use \"git push\" to publish your local commits)\n",
            "\n",
            "Changes to be committed:\n",
            "  (use \"git restore --staged <file>...\" to unstage)\n",
            "\t\u001b[32mdeleted:    Homemart-Behavior-Analysis-DTSC2024\u001b[m\n",
            "\n",
            "Untracked files:\n",
            "  (use \"git add <file>...\" to include in what will be committed)\n",
            "\t\u001b[31mHomemart-Behavior-Analysis-DTSC2024/\u001b[m\n",
            "\n",
            "warning: adding embedded git repository: Homemart-Behavior-Analysis-DTSC2024\n",
            "\u001b[33mhint: You've added another git repository inside your current repository.\u001b[m\n",
            "\u001b[33mhint: Clones of the outer repository will not contain the contents of\u001b[m\n",
            "\u001b[33mhint: the embedded repository and will not know how to obtain it.\u001b[m\n",
            "\u001b[33mhint: If you meant to add a submodule, use:\u001b[m\n",
            "\u001b[33mhint: \u001b[m\n",
            "\u001b[33mhint: \tgit submodule add <url> Homemart-Behavior-Analysis-DTSC2024\u001b[m\n",
            "\u001b[33mhint: \u001b[m\n",
            "\u001b[33mhint: If you added this path by mistake, you can remove it from the\u001b[m\n",
            "\u001b[33mhint: index with:\u001b[m\n",
            "\u001b[33mhint: \u001b[m\n",
            "\u001b[33mhint: \tgit rm --cached Homemart-Behavior-Analysis-DTSC2024\u001b[m\n",
            "\u001b[33mhint: \u001b[m\n",
            "\u001b[33mhint: See \"git help submodule\" for more information.\u001b[m\n",
            "On branch main\n",
            "Your branch is ahead of 'origin/main' by 1 commit.\n",
            "  (use \"git push\" to publish your local commits)\n",
            "\n",
            "nothing to commit, working tree clean\n",
            "fatal: could not read Username for 'https://github.com': No such device or address\n"
          ]
        }
      ]
    },
    {
      "cell_type": "code",
      "execution_count": null,
      "metadata": {
        "id": "ELgBKgxYx28Q"
      },
      "outputs": [],
      "source": [
        "import numpy as np\n",
        "import pandas as pd\n",
        "from sklearn.model_selection import train_test_split\n",
        "from sklearn.ensemble import RandomForestClassifier\n",
        "from sklearn.tree import DecisionTreeClassifier\n",
        "from sklearn.preprocessing import LabelEncoder\n",
        "from sklearn.metrics import accuracy_score, f1_score, precision_score, recall_score, confusion_matrix\n",
        "import matplotlib.pyplot as plt\n",
        "import seaborn as sns"
      ]
    },
    {
      "cell_type": "code",
      "source": [
        "from google.colab import drive\n",
        "drive.mount('/content/drive')\n",
        "# Thiết lập đường dẫn đến file CSV\n",
        "path_customerbehavior_data = \"/content/drive/MyDrive/1. PROJECTS/Học Data/DSTC 2024/DSTC 2024_Dataset/03_Customer_Behavior_Data.csv\"\n",
        "path_item_data = \"/content/drive/MyDrive/1. PROJECTS/Học Data/DSTC 2024/DSTC 2024_Dataset/03_Item_Information_Data.csv\"\n",
        "path_shelf_data = \"/content/drive/MyDrive/1. PROJECTS/Học Data/DSTC 2024/DSTC 2024_Dataset/03_Shelf_Information_Data.csv\"\n",
        "# Đọc file csv vào DataFrame\n",
        "df = pd.read_csv(path_customerbehavior_data)\n",
        "df_item = pd.read_csv(path_item_data)\n",
        "df_shelf =pd.read_csv(path_shelf_data)\n",
        "# Hiển thị nội dung của DataFrame\n",
        "print(df)\n",
        "print(df_item)\n",
        "print(df_shelf)"
      ],
      "metadata": {
        "id": "KfgcpSdt0yjx"
      },
      "execution_count": null,
      "outputs": []
    },
    {
      "cell_type": "markdown",
      "source": [
        "# Xử lý missing data ở các cột Putting item into bag, Taking item out of bag, Putting item into bag in the 2nd time\n",
        "\n"
      ],
      "metadata": {
        "id": "4Y7I-VqVpxj6"
      }
    },
    {
      "cell_type": "markdown",
      "source": [
        "## Xoá các dòng trống cả 3 và điền các dòng có dữ liệu tương tự\n"
      ],
      "metadata": {
        "id": "UdKGpYpNsuJv"
      }
    },
    {
      "cell_type": "code",
      "source": [
        "# Cột muốn xử lý missing values\n",
        "columns_to_check = [\"Putting item into bag\", \"Taking item out of bag\", \"Putting item into bag in the 2nd time\"]\n",
        "\n",
        "# Cột để nhóm dữ liệu\n",
        "group_by_columns = [\"Shelf ID\",\"Item ID\", \"Age\", \"Gender\"]\n",
        "\n",
        "# Loại bỏ các dòng mà cả 3 cột \"Putting item into bag\", \"Taking item out of bag\", và \"Putting item into bag in the 2nd time\" đều bị trống\n",
        "df = df.dropna(subset=columns_to_check, how='all')\n",
        "\n",
        "# Hàm để điền giá trị thiếu dựa trên các dòng tương tự\n",
        "def fill_missing_values(row, df, columns_to_check, group_by_columns):\n",
        "    # Lấy các giá trị không missing để so sánh\n",
        "    condition = (df[group_by_columns] == row[group_by_columns]).all(axis=1)\n",
        "    similar_rows = df[condition & df[columns_to_check].notna().all(axis=1)]\n",
        "\n",
        "    if len(similar_rows) > 0:\n",
        "        # Tính giá trị phổ biến nhất cho từng cột\n",
        "        for col in columns_to_check:\n",
        "            most_common = similar_rows[col].mode()[0]\n",
        "            row[col] = most_common\n",
        "\n",
        "    return row\n",
        "\n",
        "# Áp dụng hàm trên cho từng dòng\n",
        "df = df.apply(lambda row: fill_missing_values(row, df, columns_to_check, group_by_columns) if row[columns_to_check].isna().any() else row, axis=1)"
      ],
      "metadata": {
        "id": "a5z4aFmC1WQT"
      },
      "execution_count": null,
      "outputs": []
    },
    {
      "cell_type": "code",
      "source": [
        "num_empty_rows = df.isnull().any(axis=1).sum()\n",
        "print (num_empty_rows)"
      ],
      "metadata": {
        "id": "mPYUeG5TNoxC"
      },
      "execution_count": null,
      "outputs": []
    },
    {
      "cell_type": "markdown",
      "source": [
        "## Kiểm tra nên dùng mô hình nào"
      ],
      "metadata": {
        "id": "PQLXOUaJXNXi"
      }
    },
    {
      "cell_type": "code",
      "source": [
        "# Tách phần không có missing values\n",
        "df_no_missing = df.dropna()\n",
        "\n",
        "# Xác định cột target và features\n",
        "target_columns = [\"Putting item into bag\", \"Taking item out of bag\", \"Putting item into bag in the 2nd time\"]\n",
        "features = [\"Shelf ID\", \"Person ID\", \"Age\", \"Gender\", \"Height\", \"Weight\", \"Married status\",\n",
        "            \"Moving speed (m/s)\", \"Item ID\", \"Returning item\", \"Holding the item (s)\",\n",
        "            \"Holding the bag\", \"Picking up item\", \"Returning item\"]\n",
        "\n",
        "# Bước 1: Lấy bộ dữ liệu không có missing values (cho các cột mục tiêu)\n",
        "df_no_missing = df.dropna(subset=target_columns)\n",
        "\n",
        "# Bước 2: Chuyển đổi các biến phân loại thành số\n",
        "le = LabelEncoder()\n",
        "df_no_missing['Gender'] = le.fit_transform(df_no_missing['Gender'])\n",
        "df_no_missing['Married status'] = le.fit_transform(df_no_missing['Married status'])\n",
        "df_no_missing['Holding the bag'] = le.fit_transform(df_no_missing['Holding the bag'])\n",
        "df_no_missing['Picking up item'] = le.fit_transform(df_no_missing['Picking up item'])\n",
        "df_no_missing['Returning item'] = le.fit_transform(df_no_missing['Returning item'])\n",
        "\n",
        "# Hàm huấn luyện và đánh giá mô hình\n",
        "def evaluate_model(X, y, model_name):\n",
        "    # Chia dữ liệu thành tập huấn luyện và tập kiểm tra\n",
        "    X_train, X_test, y_train, y_test = train_test_split(X, y, test_size=0.2, random_state=42)\n",
        "\n",
        "    # Kiểm tra và chuyển đổi y_train và y_test nếu cần\n",
        "    if y_train.dtype != 'int' and y_train.dtype != 'bool':\n",
        "        y_train = y_train.astype('category').cat.codes\n",
        "    if y_test.dtype != 'int' and y_test.dtype != 'bool':\n",
        "        y_test = y_test.astype('category').cat.codes\n",
        "\n",
        "    # Khởi tạo mô hình dựa trên tên mô hình\n",
        "    if model_name == \"Decision Tree\":\n",
        "        model = DecisionTreeClassifier(random_state=42)\n",
        "    elif model_name == \"Random Forest\":\n",
        "        model = RandomForestClassifier(random_state=42)\n",
        "\n",
        "    # Huấn luyện mô hình\n",
        "    model.fit(X_train, y_train)\n",
        "\n",
        "    # Dự đoán trên tập kiểm tra\n",
        "    y_pred = model.predict(X_test)\n",
        "\n",
        "    # Đánh giá mô hình\n",
        "    accuracy = accuracy_score(y_test, y_pred)\n",
        "    f1 = f1_score(y_test, y_pred, average='weighted')\n",
        "    precision = precision_score(y_test, y_pred, average='weighted', zero_division=1)\n",
        "    recall = recall_score(y_test, y_pred, average='weighted')\n",
        "    conf_matrix = confusion_matrix(y_test, y_pred)\n",
        "\n",
        "    return accuracy, f1, precision, recall, conf_matrix\n",
        "\n",
        "# Bước 3: Đánh giá mô hình cho từng cột mục tiêu\n",
        "results = []\n",
        "\n",
        "for target_column in target_columns:\n",
        "    print(f\"Evaluating models for target column: {target_column}\")\n",
        "\n",
        "    # Chọn X là các features và y là target column\n",
        "    X = df_no_missing[features]\n",
        "    y = df_no_missing[target_column]\n",
        "\n",
        "    # Ensure the target variable is categorical if it's boolean\n",
        "    if y.dtype != 'object' and y.dtype != 'bool':\n",
        "        y = y.astype('category')\n",
        "\n",
        "    # Huấn luyện và đánh giá Decision Tree\n",
        "    dt_accuracy, dt_f1, dt_precision, dt_recall, dt_conf_matrix = evaluate_model(X, y, \"Decision Tree\")\n",
        "    print(f\"Decision Tree - {target_column} - Accuracy: {dt_accuracy}, F1 Score: {dt_f1}, Precision: {dt_precision}, Recall: {dt_recall}\")\n",
        "    print(f\"Confusion Matrix:\\n{dt_conf_matrix}\")\n",
        "\n",
        "    # Huấn luyện và đánh giá Random Forest\n",
        "    rf_accuracy, rf_f1, rf_precision, rf_recall, rf_conf_matrix = evaluate_model(X, y, \"Random Forest\")\n",
        "    print(f\"Random Forest - {target_column} - Accuracy: {rf_accuracy}, F1 Score: {rf_f1}, Precision: {rf_precision}, Recall: {rf_recall}\")\n",
        "    print(f\"Confusion Matrix:\\n{rf_conf_matrix}\")\n",
        "\n",
        "    # Lưu kết quả cho Decision Tree và Random Forest\n",
        "    results.append({\n",
        "        \"Target Column\": target_column,\n",
        "        \"Model\": \"Decision Tree\",\n",
        "        \"Accuracy\": dt_accuracy,\n",
        "        \"F1 Score\": dt_f1,\n",
        "        \"Precision\": dt_precision,\n",
        "        \"Recall\": dt_recall,\n",
        "        \"Confusion Matrix\": dt_conf_matrix\n",
        "    })\n",
        "    results.append({\n",
        "        \"Target Column\": target_column,\n",
        "        \"Model\": \"Random Forest\",\n",
        "        \"Accuracy\": rf_accuracy,\n",
        "        \"F1 Score\": rf_f1,\n",
        "        \"Precision\": rf_precision,\n",
        "        \"Recall\": rf_recall,\n",
        "        \"Confusion Matrix\": rf_conf_matrix\n",
        "    })\n",
        "\n",
        "# Chuyển kết quả thành DataFrame (loại bỏ confusion matrix)\n",
        "results_df = pd.DataFrame([{key: value for key, value in result.items() if key != 'Confusion Matrix'} for result in results])\n",
        "\n",
        "# Hiển thị kết quả\n",
        "print(results_df)\n",
        "\n",
        "# Lưu kết quả ra file CSV nếu cần\n",
        "results_df.to_csv(\"/content/drive/MyDrive/1. PROJECTS/Học Data/01. DSTC 2024 _ TÀI LIỆU BẢNG B/model_comparison_results.csv\", index=False)\n"
      ],
      "metadata": {
        "id": "VQ05IyQ0XPyj"
      },
      "execution_count": null,
      "outputs": []
    },
    {
      "cell_type": "code",
      "source": [
        "# Hàm tạo và hiển thị ma trận nhầm lẫn\n",
        "def plot_confusion_matrix(cm, classes, title='Confusion Matrix', cmap=plt.cm.Blues):\n",
        "    \"\"\"\n",
        "    Tạo và hiển thị ma trận nhầm lẫn.\n",
        "    :param cm: Ma trận nhầm lẫn\n",
        "    :param classes: Danh sách các lớp\n",
        "    :param title: Tiêu đề của biểu đồ\n",
        "    :param cmap: Bảng màu\n",
        "    \"\"\"\n",
        "    plt.figure(figsize=(8, 6))\n",
        "    sns.heatmap(cm, annot=True, fmt='d', cmap=cmap,\n",
        "                xticklabels=classes, yticklabels=classes)\n",
        "    plt.xlabel('Predicted labels')\n",
        "    plt.ylabel('True labels')\n",
        "    plt.title(title)\n",
        "    plt.show()\n",
        "\n",
        "# Sử dụng hàm plot_confusion_matrix\n",
        "target_columns = [\"Putting item into bag\", \"Taking item out of bag\", \"Putting item into bag in the 2nd time\"]\n",
        "classes = ['False', 'True']  # Cập nhật nếu lớp của bạn khác\n",
        "\n",
        "for target_column in target_columns:\n",
        "    print(f\"Confusion Matrix for {target_column}\")\n",
        "\n",
        "    # Chọn X là các features và y là target column\n",
        "    X = df_no_missing[features]\n",
        "    y = df_no_missing[target_column]\n",
        "\n",
        "    # Đánh giá Decision Tree\n",
        "    dt_accuracy, dt_f1, dt_precision, dt_recall, dt_conf_matrix = evaluate_model(X, y, \"Decision Tree\")\n",
        "    print(f\"Decision Tree - {target_column} - Accuracy: {dt_accuracy}, F1 Score: {dt_f1}, Precision: {dt_precision}, Recall: {dt_recall}\")\n",
        "    print(f\"Confusion Matrix:\\n{dt_conf_matrix}\")\n",
        "\n",
        "    # Trực quan hóa ma trận nhầm lẫn của Decision Tree\n",
        "    plot_confusion_matrix(dt_conf_matrix, classes, title=f'Decision Tree Confusion Matrix for {target_column}')\n",
        "\n",
        "    # Đánh giá Random Forest\n",
        "    rf_accuracy, rf_f1, rf_precision, rf_recall, rf_conf_matrix = evaluate_model(X, y, \"Random Forest\")\n",
        "    print(f\"Random Forest - {target_column} - Accuracy: {rf_accuracy}, F1 Score: {rf_f1}, Precision: {rf_precision}, Recall: {rf_recall}\")\n",
        "    print(f\"Confusion Matrix:\\n{rf_conf_matrix}\")\n",
        "\n",
        "    # Trực quan hóa ma trận nhầm lẫn của Random Forest\n",
        "    plot_confusion_matrix(rf_conf_matrix, classes, title=f'Random Forest Confusion Matrix for {target_column}')"
      ],
      "metadata": {
        "id": "4zfHZYse52Z7"
      },
      "execution_count": null,
      "outputs": []
    },
    {
      "cell_type": "markdown",
      "source": [
        "### Nhận xét\n",
        "1. Putting item into bag:\n",
        "  Random Forest có hiệu suất tốt hơn đáng kể so với Decision Tree. Đặc biệt là ở chỉ số Accuracy và Recall, điều này cho thấy Random Forest có khả năng phân loại chính xác hơn và ít bỏ sót hơn so với Decision Tree.\n",
        "\n",
        "2. Taking item out of bag:\n",
        "  Tương tự, Random Forest cho kết quả tốt hơn ở tất cả các chỉ số. Sự chênh lệch không quá lớn nhưng vẫn cho thấy Random Forest có hiệu suất phân loại tốt hơn một chút.\n",
        "\n",
        "3. Putting item into bag in the 2nd time:\n",
        "  Mặc dù cả hai mô hình đều có hiệu suất không cao đối với target này, Random Forest vẫn cho kết quả tốt hơn ở tất cả các chỉ số so với Decision Tree. Điều này nhấn mạnh tính hiệu quả của Random Forest trong việc xử lý nhiều lần thao tác lặp lại.\n",
        "4. Trong cả ba trường hợp, Random Forest đều cho kết quả tốt hơn so với Decision Tree trên tất cả các chỉ số (Accuracy, F1 Score, Precision, và Recall). Đặc biệt, Random Forest có khả năng xử lý tốt hơn trong việc tránh overfitting và cải thiện độ chính xác tổng thể. Sự khác biệt rõ rệt nhất là ở target \"Putting item into bag\", với Random Forest cho độ chính xác và độ nhạy cao hơn đáng kể.\n",
        "\n",
        "\n",
        "\n",
        "\n",
        "\n"
      ],
      "metadata": {
        "id": "ccrLydhp1k-Q"
      }
    },
    {
      "cell_type": "markdown",
      "source": [
        "## Dùng mô hình Decision Tree để điền các trường hợp còn trống"
      ],
      "metadata": {
        "id": "jaGKIgFlOqhW"
      }
    },
    {
      "cell_type": "code",
      "source": [
        "# Tạo bản sao của df để lưu kết quả của Decision Tree\n",
        "df_dt = df.copy()\n",
        "\n",
        "# Danh sách các cột cần dự đoán\n",
        "columns_to_predict = [\"Putting item into bag\", \"Taking item out of bag\", \"Putting item into bag in the 2nd time\"]\n",
        "\n",
        "# Các cột đặc trưng để huấn luyện mô hình (sử dụng các thông tin không bị thiếu)\n",
        "features = [\"Shelf ID\", \"Person ID\", \"Age\", \"Gender\", \"Height\", \"Weight\", \"Married status\",\n",
        "            \"Moving speed (m/s)\", \"Item ID\", \"Returning item\", \"Holding the item (s)\",\n",
        "            \"Holding the bag\", \"Picking up item\", \"Returning item\"]\n",
        "\n",
        "# Bước 1: Chuẩn bị dữ liệu\n",
        "# Chuyển các biến phân loại thành số (Label Encoding)\n",
        "le = LabelEncoder()\n",
        "df_dt[\"Gender\"] = le.fit_transform(df_dt[\"Gender\"])\n",
        "df_dt[\"Married status\"] = le.fit_transform(df_dt[\"Married status\"])\n",
        "df_dt[\"Holding the bag\"] = le.fit_transform(df_dt[\"Holding the bag\"])\n",
        "df_dt[\"Picking up item\"] = le.fit_transform(df_dt[\"Picking up item\"])\n",
        "df_dt[\"Returning item\"] = le.fit_transform(df_dt[\"Returning item\"])\n",
        "\n",
        "# Hàm xử lý để huấn luyện và dự đoán cho từng cột\n",
        "def predict_missing_values_with_dt(df, target_column, features):\n",
        "    # Tách dữ liệu thành 2 phần:\n",
        "    # - train_data: Dữ liệu có sẵn, không thiếu giá trị\n",
        "    # - test_data: Dữ liệu thiếu (NaN) cần dự đoán\n",
        "    train_data = df.dropna(subset=[target_column])\n",
        "    test_data = df[df[target_column].isna()]\n",
        "\n",
        "    # X tách ra các biến đặc trưng (features), y là cột mục tiêu (target)\n",
        "    X_train = train_data[features]\n",
        "    y_train = train_data[target_column]\n",
        "    X_test = test_data[features]\n",
        "\n",
        "    # Kiểm tra kiểu dữ liệu của cột mục tiêu và chuyển đổi nếu cần\n",
        "    if y_train.dtype not in ['int64', 'int32', 'int16', 'category']:\n",
        "        y_train = y_train.astype('category').cat.codes\n",
        "\n",
        "    # Huấn luyện mô hình Decision Tree\n",
        "    model = DecisionTreeClassifier()\n",
        "    model.fit(X_train, y_train)\n",
        "\n",
        "    # Dự đoán giá trị cho phần test_data (bị thiếu)\n",
        "    y_pred = model.predict(X_test)\n",
        "\n",
        "    # Điền giá trị đã dự đoán vào cột bị thiếu\n",
        "    df.loc[df[target_column].isna(), target_column] = y_pred\n",
        "\n",
        "      # Chuyển đổi giá trị từ 0/1 thành FALSE/TRUE\n",
        "    df[target_column] = df[target_column].replace({0: 'FALSE', 1: 'TRUE'})\n",
        "\n",
        "    # Trả về DataFrame đã được điền đầy đủ\n",
        "    return df\n",
        "\n",
        "# Bước 2: Dự đoán từng cột bị thiếu và lưu kết quả vào df_dt\n",
        "for col in columns_to_predict:\n",
        "    df_dt = predict_missing_values_with_dt(df_dt, col, features)\n",
        "\n",
        "# df_dt bây giờ đã chứa dữ liệu với các giá trị bị thiếu được điền bởi Decision Tree\n",
        "print(df_dt)\n"
      ],
      "metadata": {
        "id": "eu4k0uYsOtal"
      },
      "execution_count": null,
      "outputs": []
    },
    {
      "cell_type": "markdown",
      "source": [
        "## Dùng mô hình Random Forest để điền các trường hợp còn trống"
      ],
      "metadata": {
        "id": "BWL0Bxn7pwUc"
      }
    },
    {
      "cell_type": "code",
      "source": [
        "# Tạo bản sao của df để lưu kết quả của Random Forest\n",
        "df_rf = df.copy()\n",
        "\n",
        "# Danh sách các cột cần dự đoán\n",
        "columns_to_predict = [\"Putting item into bag\", \"Taking item out of bag\", \"Putting item into bag in the 2nd time\"]\n",
        "\n",
        "# Các cột feature\n",
        "features = [\"Shelf ID\", \"Person ID\", \"Age\", \"Gender\", \"Height\", \"Weight\", \"Married status\",\n",
        "            \"Moving speed (m/s)\", \"Item ID\", \"Returning item\", \"Holding the item (s)\",\n",
        "            \"Holding the bag\", \"Picking up item\", \"Returning item\"]\n",
        "\n",
        "# Bước 1: Chuẩn bị dữ liệu\n",
        "# Chuyển các biến phân loại thành số (Label Encoding)\n",
        "le = LabelEncoder()\n",
        "df_rf[\"Gender\"] = le.fit_transform(df_rf[\"Gender\"])\n",
        "df_rf[\"Married status\"] = le.fit_transform(df_rf[\"Married status\"])\n",
        "df_rf[\"Holding the bag\"] = le.fit_transform(df_rf[\"Holding the bag\"])\n",
        "df_rf[\"Picking up item\"] = le.fit_transform(df_rf[\"Picking up item\"])\n",
        "df_rf[\"Returning item\"] = le.fit_transform(df_rf[\"Returning item\"])\n",
        "\n",
        "# Hàm xử lý để huấn luyện và dự đoán cho từng cột\n",
        "def predict_missing_values(df, target_column, features):\n",
        "    # Tách dữ liệu thành 2 phần:\n",
        "    # - train_data: Dữ liệu có sẵn, không thiếu giá trị\n",
        "    # - test_data: Dữ liệu thiếu (NaN) cần dự đoán\n",
        "    train_data = df.dropna(subset=[target_column])\n",
        "    test_data = df[df[target_column].isna()]\n",
        "\n",
        "    # X tách ra các biến đặc trưng (features), y là cột mục tiêu (target)\n",
        "    X_train = train_data[features]\n",
        "    y_train = train_data[target_column]\n",
        "    X_test = test_data[features]\n",
        "\n",
        "    # Kiểm tra kiểu dữ liệu của cột mục tiêu và chuyển đổi nếu cần\n",
        "    if y_train.dtype not in ['int64', 'int32', 'int16', 'category']:\n",
        "        y_train = y_train.astype('category').cat.codes\n",
        "\n",
        "    # Huấn luyện mô hình Random Forest\n",
        "    model = RandomForestClassifier()\n",
        "    model.fit(X_train, y_train)\n",
        "\n",
        "    # Dự đoán giá trị cho phần test_data (bị thiếu)\n",
        "    y_pred = model.predict(X_test)\n",
        "\n",
        "    # Điền giá trị đã dự đoán vào cột bị thiếu\n",
        "    df.loc[df[target_column].isna(), target_column] = y_pred\n",
        "\n",
        "     # Chuyển đổi giá trị từ 0/1 thành FALSE/TRUE\n",
        "   # df[target_column] = df[target_column].replace({0: 'FALSE', 1: 'TRUE'})\n",
        "\n",
        "    # Trả về DataFrame đã được điền đầy đủ\n",
        "    return df\n",
        "\n",
        "# Bước 2: Dự đoán từng cột bị thiếu của df_rf\n",
        "for col in columns_to_predict:\n",
        "    df_rf = predict_missing_values(df_rf, col, features)\n",
        "\n",
        "# Bây giờ df_rf đã được điền đầy đủ các giá trị bị thiếu cho các cột dự đoán\n",
        "print(df_rf)\n",
        "\n"
      ],
      "metadata": {
        "colab": {
          "base_uri": "https://localhost:8080/"
        },
        "id": "SDAjK0Ao9wtl",
        "outputId": "ffaef0ff-67e4-4173-f577-c8369822479d",
        "collapsed": true
      },
      "execution_count": null,
      "outputs": [
        {
          "output_type": "stream",
          "name": "stdout",
          "text": [
            "       Shelf ID  Person ID   Timestamp  Age  Gender  Height  Weight  \\\n",
            "0             4          1  1720260000   52       0     162      41   \n",
            "1             4          1  1720260120   52       0     162      41   \n",
            "2             4          1  1720260300   52       0     162      41   \n",
            "3             4          1  1720260360   52       0     162      41   \n",
            "4             4          1  1720260480   52       0     162      41   \n",
            "...         ...        ...         ...  ...     ...     ...     ...   \n",
            "15389         2       1500  1720151340   52       0     154      44   \n",
            "15390         3       1500  1720151640   52       0     154      44   \n",
            "15391         3       1500  1720151760   52       0     154      44   \n",
            "15392         3       1500  1720151880   52       0     154      44   \n",
            "15393         3       1500  1720152180   52       0     154      44   \n",
            "\n",
            "       Married status  Moving speed (m/s)  Item ID  Looking at item (s)  \\\n",
            "0                   0                0.19       16                   27   \n",
            "1                   0                0.49        5                   22   \n",
            "2                   0                0.36        4                   25   \n",
            "3                   0                0.64        8                   21   \n",
            "4                   0                0.13        6                   27   \n",
            "...               ...                 ...      ...                  ...   \n",
            "15389               1                0.52        4                   32   \n",
            "15390               1                0.85        3                   30   \n",
            "15391               1                0.76       21                   54   \n",
            "15392               1                1.41       13                   16   \n",
            "15393               1                0.96        7                   17   \n",
            "\n",
            "       Holding the item (s)  Holding the bag  Picking up item  Returning item  \\\n",
            "0                        36                1                1               0   \n",
            "1                        17                1                1               0   \n",
            "2                        39                1                1               1   \n",
            "3                        35                1                1               1   \n",
            "4                        16                1                1               0   \n",
            "...                     ...              ...              ...             ...   \n",
            "15389                    35                0                1               0   \n",
            "15390                    28                0                1               0   \n",
            "15391                    56                0                1               0   \n",
            "15392                    25                0                1               0   \n",
            "15393                    37                0                1               0   \n",
            "\n",
            "      Putting item into bag Taking item out of bag  \\\n",
            "0                     False                  False   \n",
            "1                      True                   True   \n",
            "2                      True                   True   \n",
            "3                     False                  False   \n",
            "4                     False                  False   \n",
            "...                     ...                    ...   \n",
            "15389                  True                   True   \n",
            "15390                  True                   True   \n",
            "15391                 False                   True   \n",
            "15392                 False                   True   \n",
            "15393                  True                   True   \n",
            "\n",
            "      Putting item into bag in the 2nd time  \n",
            "0                                      True  \n",
            "1                                      True  \n",
            "2                                     False  \n",
            "3                                     False  \n",
            "4                                      True  \n",
            "...                                     ...  \n",
            "15389                                  True  \n",
            "15390                                  True  \n",
            "15391                                 False  \n",
            "15392                                  True  \n",
            "15393                                 False  \n",
            "\n",
            "[15344 rows x 18 columns]\n"
          ]
        }
      ]
    },
    {
      "cell_type": "code",
      "source": [
        "df_rf.isnull().sum()"
      ],
      "metadata": {
        "id": "N6-Jp4oSGCp7"
      },
      "execution_count": null,
      "outputs": []
    },
    {
      "cell_type": "markdown",
      "source": [
        "## So sánh 2 dataframe của 2 phương pháp"
      ],
      "metadata": {
        "id": "J_zSMCewO47R"
      }
    },
    {
      "cell_type": "code",
      "source": [
        "df_rf_nullcheck = df_rf.isnull().any(axis=1).sum()\n",
        "print (df_rf_nullcheck)\n",
        "\n",
        "df_dt_nullcheck = df_dt.isnull().any(axis=1).sum()\n",
        "print (df_dt_nullcheck)"
      ],
      "metadata": {
        "id": "a9hssKsIS-oH"
      },
      "execution_count": null,
      "outputs": []
    },
    {
      "cell_type": "markdown",
      "source": [
        "### In ra các dòng có giá trị khác biệt bằng .compare"
      ],
      "metadata": {
        "id": "g2kkId9A2094"
      }
    },
    {
      "cell_type": "code",
      "source": [
        "# So sánh các giá trị không trùng lặp giữa df và df_dt\n",
        "comparison_df = df_rf.compare(df_dt)\n",
        "\n",
        "# In ra những dòng có giá trị khác biệt\n",
        "print(comparison_df)\n",
        "\n",
        "comparison_df.to_csv(\"/content/drive/MyDrive/1. PROJECTS/Học Data/01. DSTC 2024 _ TÀI LIỆU BẢNG B/differences_between_df_and_df_dt.csv\", index=False)\n"
      ],
      "metadata": {
        "id": "vyYVDiMOO9PB"
      },
      "execution_count": null,
      "outputs": []
    },
    {
      "cell_type": "markdown",
      "source": [
        "### In ra các dòng điền missing value của Dataframe Random Forest khác với Decision Tree bằng .ne"
      ],
      "metadata": {
        "id": "xA9vU6cK2jI7"
      }
    },
    {
      "cell_type": "code",
      "source": [
        "# So sánh df_rf và df_dt\n",
        "difference_mask = df_rf.ne(df_dt)\n",
        "\n",
        "# Lọc ra những dòng từ df_rf có giá trị khác  so với df_dt\n",
        "rows_with_differences = df_rf[difference_mask.any(axis=1)]\n",
        "\n",
        "# In ra DataFrame chứa các dòng của df_rf có giá trị khác  so với df_dt\n",
        "print(rows_with_differences)\n",
        "\n",
        "# Lưu kết quả vào file CSV\n",
        "rows_with_differences.to_csv(\"/content/drive/MyDrive/1. PROJECTS/Học Data/01. DSTC 2024 _ TÀI LIỆU BẢNG B/rows_with_differences_between_df_rf_and_df_dt.csv\", index=False)\n"
      ],
      "metadata": {
        "id": "FxFpdvDQVIrP"
      },
      "execution_count": null,
      "outputs": []
    },
    {
      "cell_type": "markdown",
      "source": [
        "# Trim dataframe"
      ],
      "metadata": {
        "id": "kBuAX1QxYmpz"
      }
    },
    {
      "cell_type": "markdown",
      "source": [
        "## Thực hiện Trim dataframe"
      ],
      "metadata": {
        "id": "8kxWXE6la8i_"
      }
    },
    {
      "cell_type": "code",
      "source": [
        "# Hàm trim khoảng trắng ở hai bên cho tất cả các cột và dòng trong DataFrame\n",
        "def trim_all_columns(df):\n",
        "    # Áp dụng trim cho tiêu đề cột\n",
        "    df.columns = df.columns.str.strip()\n",
        "    # Áp dụng trim cho tất cả các cột có kiểu chuỗi (string) trong dữ liệu\n",
        "    return df.applymap(lambda x: x.strip() if isinstance(x, str) else x)\n",
        "\n",
        "# Trim cho cả 3 DataFrame\n",
        "df_rf = trim_all_columns(df_rf)\n",
        "df_item = trim_all_columns(df_item)\n",
        "df_shelf = trim_all_columns(df_shelf)\n",
        "\n",
        "print(df_rf.columns)\n",
        "print(df_item.columns)\n",
        "print(df_shelf.columns)"
      ],
      "metadata": {
        "id": "e6ljMNHwYq7P"
      },
      "execution_count": null,
      "outputs": []
    },
    {
      "cell_type": "markdown",
      "source": [
        "# Xử lý kiểu dữ liệu"
      ],
      "metadata": {
        "id": "ShClUc3nbKnw"
      }
    },
    {
      "cell_type": "code",
      "source": [
        "print(df_rf.dtypes)\n",
        "print(df_item.dtypes)\n",
        "print(df_shelf.dtypes)"
      ],
      "metadata": {
        "id": "CKUmmFLdbr9r"
      },
      "execution_count": null,
      "outputs": []
    },
    {
      "cell_type": "markdown",
      "source": [
        "## Kiểm tra kiểu dữ liệu các cột ở 3 data frame"
      ],
      "metadata": {
        "id": "UoheftpDbNXg"
      }
    },
    {
      "cell_type": "markdown",
      "source": [
        "## Đổi kiểu dữ liệu cột Price sang Int"
      ],
      "metadata": {
        "id": "wENaqqe_bQV0"
      }
    },
    {
      "cell_type": "code",
      "source": [
        "df_rf.dtypes\n",
        "df_item.dtypes\n",
        "df_shelf.dtypes"
      ],
      "metadata": {
        "id": "E-R4PuBcPMqw"
      },
      "execution_count": null,
      "outputs": []
    },
    {
      "cell_type": "code",
      "source": [
        "# Loại bỏ dấu phân cách hàng nghìn (dấu phẩy) trong cột 'Price'\n",
        "df_item['Price'] = df_item['Price'].str.replace(',', '')\n",
        "\n",
        "# Chuyển cột 'Price' sang kiểu số (có thể là int hoặc float, tùy thuộc vào dữ liệu)\n",
        "df_item['Price'] = pd.to_numeric(df_item['Price'])"
      ],
      "metadata": {
        "id": "Q4CxWKS-bUnb"
      },
      "execution_count": null,
      "outputs": []
    },
    {
      "cell_type": "markdown",
      "source": [
        "# Thêm các cột cần thiết"
      ],
      "metadata": {
        "id": "e1NWd8s-TR06"
      }
    },
    {
      "cell_type": "markdown",
      "source": [
        "## Thêm cột kiểm tra mua hàng vào df_rf"
      ],
      "metadata": {
        "id": "OeEIzUtQQ9-O"
      }
    },
    {
      "cell_type": "code",
      "source": [
        "# Điều kiện để kiểm tra xem mặt hàng có được mua hay không\n",
        "def buy_checking(row):\n",
        "    if row['Putting item into bag'] and row['Taking item out of bag'] and not row['Putting item into bag in the 2nd time']:\n",
        "        return \"Không mua\"\n",
        "    elif not row['Putting item into bag'] and row['Taking item out of bag'] and not row['Putting item into bag in the 2nd time']:\n",
        "        return \"Không mua\"\n",
        "    elif not row['Putting item into bag'] and not row['Taking item out of bag'] and not row['Putting item into bag in the 2nd time']:\n",
        "        return \"Không mua\"\n",
        "    else:\n",
        "        return \"Mua\"\n",
        "\n",
        "# Áp dụng hàm cho dataframe và tạo cột mới 'Buy Checking'\n",
        "df_rf['Buy Checking'] = df_rf.apply(buy_checking, axis=1)\n",
        "\n",
        "# Hiển thị 5 hàng đầu tiên để kiểm tra kết quả\n",
        "df_rf[['Putting item into bag', 'Taking item out of bag', 'Putting item into bag in the 2nd time', 'Buy Checking']].head()"
      ],
      "metadata": {
        "id": "NccwwZAyREcI"
      },
      "execution_count": null,
      "outputs": []
    },
    {
      "cell_type": "markdown",
      "source": [
        "## Thêm cột Discount checking vào df_item"
      ],
      "metadata": {
        "id": "s12Rjcmjdp8h"
      }
    },
    {
      "cell_type": "code",
      "source": [
        "# Sử dụng np.where\n",
        "df_item['Discount checking'] = np.where(df_item['Discount'] > 0, \"Có giảm giá\", \"Không giảm giá\")\n",
        "# Sử dụng .apply\n",
        "#df_item['Discount checking'] = df_item['Discount'].apply(lambda discount: \"Có giảm giá\" if discount > 0 else \"Không giảm giá\")\n"
      ],
      "metadata": {
        "id": "4ujNAlSrdpPo"
      },
      "execution_count": null,
      "outputs": []
    },
    {
      "cell_type": "markdown",
      "source": [
        "## Thêm cột giá sau giảm giá vào df_item"
      ],
      "metadata": {
        "id": "SsQPghJXTVYq"
      }
    },
    {
      "cell_type": "code",
      "source": [
        "df_item['Price'] = df_item['Price'].astype('float')\n",
        "\n",
        "# Tạo cột \"Price After Discount\" trong dataframe df_item\n",
        "df_item['Price After Discount'] = df_item['Price'] * (1 - df_item['Discount'].astype(float) / 100)"
      ],
      "metadata": {
        "id": "U-2IZTOJTPJ6"
      },
      "execution_count": null,
      "outputs": []
    },
    {
      "cell_type": "markdown",
      "source": [
        "## Thêm cột Revenue vào df_rf\n"
      ],
      "metadata": {
        "id": "g9alvmQmT8Pp"
      }
    },
    {
      "cell_type": "markdown",
      "source": [
        "### Cách 2: Sử dụng dictionary"
      ],
      "metadata": {
        "id": "5bLySgR0Vwt7"
      }
    },
    {
      "cell_type": "code",
      "source": [
        "# Tạo một dictionary từ df_item để tham chiếu Price After Discount theo ItemID và Shelf ID\n",
        "price_dict = df_item.set_index(['Shelf ID', 'Item ID'])['Price After Discount'].to_dict() # Thay ItemID thành 'Item ID'\n",
        "\n",
        "# Thêm cột Revenue vào df_rf dựa trên việc kiểm tra điều kiện \"Mua\"\n",
        "df_rf['Revenue'] = df_rf.apply(lambda row: price_dict.get((row['Shelf ID'], row['Item ID']), 0) if row['Buy Checking'] == 'Mua' else 0, axis=1) # Thay ItemID thành 'Item ID'\n",
        "\n",
        "# Hiển thị 5 hàng đầu tiên để kiểm tra kết quả\n",
        "print(df_rf[['Item ID', 'Shelf ID', 'Buy Checking', 'Revenue']].head())"
      ],
      "metadata": {
        "id": "ed04SsKrTXrQ"
      },
      "execution_count": null,
      "outputs": []
    },
    {
      "cell_type": "markdown",
      "source": [
        "## Thêm cột Shelf Item ID ở Item ID (optional)"
      ],
      "metadata": {
        "id": "01nRv7gELwGh"
      }
    },
    {
      "cell_type": "code",
      "source": [
        "# Tạo cột mới Shelf Item ID bằng cách kết hợp cột Shelf ID và Item ID\n",
        "df_rf['Shelf Item ID'] = df_rf['Shelf ID'].astype(str) + '-' + df_rf['Item ID'].astype(str)\n",
        "df_item['Shelf Item ID'] = df_item['Shelf ID'].astype(str) + '-' + df_item['Item ID'].astype(str)\n",
        "df_rf.head()\n",
        "df_item.head()"
      ],
      "metadata": {
        "id": "AoRNzo5uPdQY"
      },
      "execution_count": null,
      "outputs": []
    },
    {
      "cell_type": "markdown",
      "source": [
        "# Sắp xếp mặt hàng"
      ],
      "metadata": {
        "id": "ZoUBsbdhMttA"
      }
    },
    {
      "cell_type": "markdown",
      "source": [
        "## Tỉ lệ picking up item"
      ],
      "metadata": {
        "id": "Ld0aT-3edHNp"
      }
    },
    {
      "cell_type": "code",
      "source": [
        "# Tính tổng số lần tương tác theo từng cặp Shelf ID và Item ID lưu vào dataframe\n",
        "total_interactions = df_rf.groupby(['Shelf ID', 'Item ID']).size().reset_index(name='Interaction Count')\n"
      ],
      "metadata": {
        "id": "UgZcdXwX-Pa5"
      },
      "execution_count": null,
      "outputs": []
    },
    {
      "cell_type": "code",
      "source": [
        "# Đếm số lần khách hàng có hành động \"picking up item\" (True) theo từng cặp Shelf ID và Item ID\n",
        "picking_up = df_rf[df_rf['Picking up item'] == True].groupby(['Shelf ID', 'Item ID']).size().reset_index(name='Pick Up Count')\n",
        "\n",
        "# Merge với df_item để thêm tên sản phẩm (Item Name) từ df_item dựa trên Shelf ID và Item ID\n",
        "picking_up = picking_up.merge(df_item[['Shelf ID', 'Item ID', 'Name']], left_on=['Shelf ID', 'Item ID'], right_on=['Shelf ID', 'Item ID'], how='left')\n",
        "\n",
        "\n",
        "\n",
        "# Merge total_interactions with picking_up\n",
        "# picking_up = picking_up.merge(total_interactions, left_on=['Shelf ID', 'Item ID'], right_on=['Shelf ID', 'Item ID'], how='left')\n",
        "\n",
        "# Tính tỷ lệ Pick Up Rate\n",
        "picking_up['Pick Up Rate'] = picking_up['Pick Up Count'] / total_interactions['Interaction Count']\n",
        "\n",
        "picking_up.head()"
      ],
      "metadata": {
        "id": "seFbiI86JAC1"
      },
      "execution_count": null,
      "outputs": []
    },
    {
      "cell_type": "code",
      "source": [
        "# Lọc các sản phẩm có tỷ lệ Pick Up Rate < 100%\n",
        "low_pickup_rate_df = picking_up[picking_up['Pick Up Rate'] < 1]\n",
        "low_pickup_rate_df\n",
        "# Hiển thị các sản phẩm và kệ hàng có tỷ lệ Pick Up Rate < 100%\n",
        "#low_pickup_rate_df = low_pickup_rate_df[['Name', 'Shelf ID', 'Pick Up Rate']]"
      ],
      "metadata": {
        "id": "Gj8wobkFHy_r"
      },
      "execution_count": null,
      "outputs": []
    },
    {
      "cell_type": "markdown",
      "source": [
        "Tỉ lệ pick up rate hầu hết đều là 100% ở tất cả các sản phẩm, trừ một số mặt hàng ở **kệ 6** tỉ lệ này nằm khoảng từ 96.3-98.4%"
      ],
      "metadata": {
        "id": "CIjvNXgaFQvf"
      }
    },
    {
      "cell_type": "markdown",
      "source": [
        "## Looking và Holding Item"
      ],
      "metadata": {
        "id": "6t1x20dKMqpx"
      }
    },
    {
      "cell_type": "code",
      "source": [
        "look_and_hold_time.head()"
      ],
      "metadata": {
        "id": "-Ssvx6VrAyEX"
      },
      "execution_count": null,
      "outputs": []
    },
    {
      "cell_type": "code",
      "source": [
        "# Tính tổng thời gian Looking và Holding cho từng sản phẩm\n",
        "look_and_hold_time = df_rf.groupby(['Shelf ID', 'Item ID'])[['Looking at item (s)', 'Holding the item (s)']].sum().reset_index()\n",
        "\n",
        "# Merge time_sum và total_interactions để có đầy đủ thông tin\n",
        "look_and_hold_time = look_and_hold_time.merge(total_interactions, on=['Shelf ID', 'Item ID'], how='left')\n",
        "\n",
        "look_and_hold_time = look_and_hold_time.merge(df_item[['Shelf ID', 'Item ID', 'Name']], left_on=['Shelf ID', 'Item ID'], right_on=['Shelf ID', 'Item ID'], how='left')\n",
        "\n",
        "# Tính trung bình thời gian cho từng sản phẩm\n",
        "look_and_hold_time['Average Time (Looking + Holding)'] = (look_and_hold_time['Looking at item (s)'] + look_and_hold_time['Holding the item (s)']) / look_and_hold_time['Interaction Count']\n",
        "# Calculate average looking time\n",
        "look_and_hold_time['Average Time (Looking)'] = look_and_hold_time['Looking at item (s)'] / look_and_hold_time['Interaction Count']\n",
        "\n",
        "# Calculate avlook_and_hold_timeerage holding time\n",
        "look_and_hold_time['Average Time (Holding)'] = look_and_hold_time['Holding the item (s)'] / look_and_hold_time['Interaction Count']\n",
        "\n",
        "# Display the result\n",
        "look_and_hold_time[['Shelf ID','Item ID','Average Time (Looking)', 'Average Time (Holding)','Average Time (Looking + Holding)']].head()"
      ],
      "metadata": {
        "id": "rE6R-bonNMld"
      },
      "execution_count": null,
      "outputs": []
    },
    {
      "cell_type": "code",
      "source": [
        "# Sắp xếp theo cột 'Average Time (Looking + Holding)' theo thứ tự tăng dần\n",
        "look_and_hold_time_sorted = look_and_hold_time.sort_values(by='Average Time (Looking + Holding)', ascending=True)\n",
        "look_and_hold_time_sorted[['Shelf ID','Item ID','Average Time (Looking)', 'Average Time (Holding)','Average Time (Looking + Holding)']].head()"
      ],
      "metadata": {
        "id": "kOuhOa4mPGI4"
      },
      "execution_count": null,
      "outputs": []
    },
    {
      "cell_type": "code",
      "source": [
        "# Tính tứ phân vị cho 'Average Time (Looking)', 'Average Time (Holding)', và 'Average Time (Looking + Holding)'\n",
        "quartiles_looking = look_and_hold_time['Average Time (Looking)'].quantile([0.25, 0.5, 0.75])\n",
        "quartiles_holding = look_and_hold_time['Average Time (Holding)'].quantile([0.25, 0.5, 0.75])\n",
        "quartiles_total = look_and_hold_time['Average Time (Looking + Holding)'].quantile([0.25, 0.5, 0.75])\n",
        "\n",
        "# Hiển thị tứ phân vị\n",
        "print(\"Tứ phân vị Average Time (Looking):\")\n",
        "print(quartiles_looking)\n",
        "print(\"\\nTứ phân vị Average Time (Holding):\")\n",
        "print(quartiles_holding)\n",
        "print(\"\\nTứ phân vị Average Time (Looking + Holding):\")\n",
        "print(quartiles_total)\n",
        "\n",
        "\n",
        "# Hàm phân loại theo tứ phân vị cho từng cột\n",
        "def classify_quartile(value, quartiles):\n",
        "    if value <= quartiles[0.25]:\n",
        "        return 'Q1'\n",
        "    elif value <= quartiles[0.50]:\n",
        "        return 'Q2'\n",
        "    elif value <= quartiles[0.75]:\n",
        "        return 'Q3'\n",
        "    else:\n",
        "        return 'Q4'\n",
        "\n",
        "# Áp dụng hàm phân loại cho từng cột\n",
        "look_and_hold_time['Quartile (Looking)'] = look_and_hold_time['Average Time (Looking)'].apply(classify_quartile, args=(quartiles_looking,))\n",
        "look_and_hold_time['Quartile (Holding)'] = look_and_hold_time['Average Time (Holding)'].apply(classify_quartile, args=(quartiles_holding,))\n",
        "look_and_hold_time['Quartile (Looking + Holding)'] = look_and_hold_time['Average Time (Looking + Holding)'].apply(classify_quartile, args=(quartiles_total,))\n",
        "\n",
        "\n",
        "# Sắp xếp các mặt hàng thuộc từng tứ phân vị cho 'Average Time (Looking)', 'Average Time (Holding)', và 'Average Time (Looking + Holding)'\n",
        "for quartile in ['Q1', 'Q2', 'Q3', 'Q4']:\n",
        "    print(f\"\\nMặt hàng thuộc {quartile} (Looking) - Sắp xếp từ nhỏ đến lớn:\")\n",
        "    print(look_and_hold_time[look_and_hold_time['Quartile (Looking)'] == quartile][['Shelf ID', 'Item ID', 'Average Time (Looking)', 'Quartile (Looking)']].sort_values(by='Average Time (Looking)'))\n",
        "\n",
        "    print(f\"\\nMặt hàng thuộc {quartile} (Holding) - Sắp xếp từ nhỏ đến lớn:\")\n",
        "    print(look_and_hold_time[look_and_hold_time['Quartile (Holding)'] == quartile][['Shelf ID', 'Item ID', 'Average Time (Holding)', 'Quartile (Holding)']].sort_values(by='Average Time (Holding)'))\n",
        "\n",
        "    print(f\"\\nMặt hàng thuộc {quartile} (Looking + Holding) - Sắp xếp từ nhỏ đến lớn:\")\n",
        "    print(look_and_hold_time[look_and_hold_time['Quartile (Looking + Holding)'] == quartile][['Shelf ID', 'Item ID', 'Average Time (Looking + Holding)', 'Quartile (Looking + Holding)']].sort_values(by='Average Time (Looking + Holding)'))\n"
      ],
      "metadata": {
        "id": "nt5PuTkVRXEv"
      },
      "execution_count": null,
      "outputs": []
    },
    {
      "cell_type": "markdown",
      "source": [
        "Kệ 6 có đa số các mặt hàng có  'Average Time (Looking)', 'Average Time (Holding) nằm ở tứ phân vị thứ nhất"
      ],
      "metadata": {
        "id": "2cCzIBaBSotf"
      }
    },
    {
      "cell_type": "code",
      "source": [
        "# Lọc ra các mặt hàng thuộc kệ 6\n",
        "shelf_6_items = look_and_hold_time[look_and_hold_time['Shelf ID'] == 6]\n",
        "\n",
        "# Chọn các cột cần hiển thị\n",
        "shelf_6_items = shelf_6_items[['Shelf ID', 'Item ID', 'Average Time (Looking)',\n",
        "                                        'Average Time (Holding)', 'Average Time (Looking + Holding)',\n",
        "                                        'Quartile (Looking)', 'Quartile (Holding)', 'Quartile (Looking + Holding)']]\n",
        "shelf_6_items"
      ],
      "metadata": {
        "id": "zBJ9a1OicCJX",
        "collapsed": true
      },
      "execution_count": null,
      "outputs": []
    },
    {
      "cell_type": "markdown",
      "source": [
        "Filter các mặt hàng kệ 6, có thể thấy trừ mặt hàng 6-11 và 6-12 là sách Nhà Giả Kim và sách Dảk Nhân Tâm là có 'Average Time (Looking)', 'Average Time (Holding) cao và nằm trong tứ phân vị 4 => Được quân tâm nhiều. Còn các mặt hàng khác của kệ 6 hầu hết đều nằm ở Q1 => Được quan tâm ít. Có thể cân nhắc điều chỉnh vị trí của các mặt hàng ở cột 6 ở nơi thu hút hơn."
      ],
      "metadata": {
        "id": "HsSwXxvrcgCf"
      }
    },
    {
      "cell_type": "code",
      "source": [
        "# Lọc ra các mặt hàng thuộc kệ 6 từ df_item\n",
        "shelf_6_items = df_item[df_item['Shelf ID'] == 6]\n",
        "\n",
        "# Chọn các cột cần hiển thị từ df_item\n",
        "shelf_6_columns = shelf_6_items[['Name', 'Origin', 'Location', 'Weight (g)', 'Price', 'NSX', 'HSD', 'Marketing strategy', 'Discount', 'Rate','Price After Discount']]\n",
        "shelf_6_columns"
      ],
      "metadata": {
        "id": "DIPQGOFwfRvf"
      },
      "execution_count": null,
      "outputs": []
    },
    {
      "cell_type": "markdown",
      "source": [
        "## Tỷ lệ mua"
      ],
      "metadata": {
        "id": "EUHgO0zgo_Z9"
      }
    },
    {
      "cell_type": "code",
      "source": [
        "# Tính tổng số lần tương tác theo từng cặp Shelf ID và Item ID lưu vào dataframe\n",
        "total_interactions = df_rf.groupby(['Shelf ID', 'Item ID']).size().reset_index(name='Interaction Count')\n",
        "\n",
        "# Tính số lượng mua cho mỗi mặt hàng\n",
        "buy_count = df_rf[df_rf['Buy Checking'] == 'Mua'].groupby(['Shelf ID','Item ID']).size().reset_index(name='Buy Count')\n",
        "\n",
        "# Tính tổng số lần xem cho mỗi mặt hàng\n",
        "\n",
        "# Tính tỷ lệ mua cho mỗi mặt hàng\n",
        "buy_ratio = buy_count['Buy Count'] / total_interactions['Interaction Count']*100\n",
        "\n",
        "# Thêm cột tỷ lệ mua vào DataFrame\n",
        "df_item['Purchase Ratio'] = buy_ratio\n",
        "\n"
      ],
      "metadata": {
        "id": "zrwSWC9GBkba"
      },
      "execution_count": null,
      "outputs": []
    },
    {
      "cell_type": "markdown",
      "source": [
        "# Xuất dữ liệu sau khi xử lý"
      ],
      "metadata": {
        "id": "-A3eorVNgaSK"
      }
    },
    {
      "cell_type": "code",
      "source": [
        "# Xuất dữ liệu sau khi xử lý\n",
        "df.to_csv(\"/content/drive/MyDrive/1. PROJECTS/Học Data/01. DSTC 2024 _ TÀI LIỆU BẢNG B/03_Customer_Behavior_Data_After handdling missing.csv\", index=False)\n",
        "df_dt.to_csv(\"/content/drive/MyDrive/1. PROJECTS/Học Data/01. DSTC 2024 _ TÀI LIỆU BẢNG B/03_Customer_Behavior_Data_Decision Tree.csv\", index=False)\n",
        "df_rf.to_csv(\"/content/drive/MyDrive/1. PROJECTS/Học Data/01. DSTC 2024 _ TÀI LIỆU BẢNG B/03_Customer_Behavior_Data_Random Forest.csv\", index=False)"
      ],
      "metadata": {
        "id": "y773gy_N2QSz"
      },
      "execution_count": null,
      "outputs": []
    },
    {
      "cell_type": "code",
      "source": [
        "df_rf.to_csv(\"/content/drive/MyDrive/1. PROJECTS/Học Data/01. DSTC 2024 _ TÀI LIỆU BẢNG B/03_Customer_Behavior_Data_Random Forest.csv\", index=False)"
      ],
      "metadata": {
        "id": "oYUlXXLu5ZTX"
      },
      "execution_count": null,
      "outputs": []
    },
    {
      "cell_type": "markdown",
      "source": [],
      "metadata": {
        "id": "j25ViNWYgdbh"
      }
    }
  ]
}